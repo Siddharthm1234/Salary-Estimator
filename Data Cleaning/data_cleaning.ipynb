{
 "cells": [
  {
   "cell_type": "code",
   "execution_count": 1,
   "metadata": {},
   "outputs": [],
   "source": [
    "import numpy as np\n",
    "import pandas as pd"
   ]
  },
  {
   "cell_type": "code",
   "execution_count": 2,
   "metadata": {},
   "outputs": [],
   "source": [
    "df=pd.read_csv(\"glassdoor_jobs.csv\")"
   ]
  },
  {
   "cell_type": "code",
   "execution_count": 3,
   "metadata": {},
   "outputs": [
    {
     "name": "stdout",
     "output_type": "stream",
     "text": [
      "<class 'pandas.core.frame.DataFrame'>\n",
      "RangeIndex: 956 entries, 0 to 955\n",
      "Data columns (total 15 columns):\n",
      "Unnamed: 0           956 non-null int64\n",
      "Job Title            956 non-null object\n",
      "Salary Estimate      956 non-null object\n",
      "Job Description      956 non-null object\n",
      "Rating               956 non-null float64\n",
      "Company Name         956 non-null object\n",
      "Location             956 non-null object\n",
      "Headquarters         956 non-null object\n",
      "Size                 956 non-null object\n",
      "Founded              956 non-null int64\n",
      "Type of ownership    956 non-null object\n",
      "Industry             956 non-null object\n",
      "Sector               956 non-null object\n",
      "Revenue              956 non-null object\n",
      "Competitors          956 non-null object\n",
      "dtypes: float64(1), int64(2), object(12)\n",
      "memory usage: 112.2+ KB\n"
     ]
    }
   ],
   "source": [
    "df.info()"
   ]
  },
  {
   "cell_type": "code",
   "execution_count": 4,
   "metadata": {
    "scrolled": true
   },
   "outputs": [
    {
     "data": {
      "text/plain": [
       "Index(['Unnamed: 0', 'Job Title', 'Salary Estimate', 'Job Description',\n",
       "       'Rating', 'Company Name', 'Location', 'Headquarters', 'Size', 'Founded',\n",
       "       'Type of ownership', 'Industry', 'Sector', 'Revenue', 'Competitors'],\n",
       "      dtype='object')"
      ]
     },
     "execution_count": 4,
     "metadata": {},
     "output_type": "execute_result"
    }
   ],
   "source": [
    "'''DATA CLEANING'''\n",
    "df.columns"
   ]
  },
  {
   "cell_type": "code",
   "execution_count": 5,
   "metadata": {},
   "outputs": [
    {
     "name": "stdout",
     "output_type": "stream",
     "text": [
      "<class 'pandas.core.frame.DataFrame'>\n",
      "Int64Index: 742 entries, 0 to 955\n",
      "Data columns (total 15 columns):\n",
      "Unnamed: 0           742 non-null int64\n",
      "Job Title            742 non-null object\n",
      "Salary Estimate      742 non-null object\n",
      "Job Description      742 non-null object\n",
      "Rating               742 non-null float64\n",
      "Company Name         742 non-null object\n",
      "Location             742 non-null object\n",
      "Headquarters         742 non-null object\n",
      "Size                 742 non-null object\n",
      "Founded              742 non-null int64\n",
      "Type of ownership    742 non-null object\n",
      "Industry             742 non-null object\n",
      "Sector               742 non-null object\n",
      "Revenue              742 non-null object\n",
      "Competitors          742 non-null object\n",
      "dtypes: float64(1), int64(2), object(12)\n",
      "memory usage: 92.8+ KB\n"
     ]
    }
   ],
   "source": [
    "#Removing rows with -1 as salary\n",
    "df=df[df['Salary Estimate']!='-1']\n",
    "df.info()"
   ]
  },
  {
   "cell_type": "code",
   "execution_count": 9,
   "metadata": {},
   "outputs": [
    {
     "data": {
      "text/plain": [
       "0       $53K-$91K (Glassdoor est.)\n",
       "1      $63K-$112K (Glassdoor est.)\n",
       "2       $80K-$90K (Glassdoor est.)\n",
       "3       $56K-$97K (Glassdoor est.)\n",
       "4      $86K-$143K (Glassdoor est.)\n",
       "                  ...             \n",
       "950    $58K-$111K (Glassdoor est.)\n",
       "951    $72K-$133K (Glassdoor est.)\n",
       "952     $56K-$91K (Glassdoor est.)\n",
       "953    $95K-$160K (Glassdoor est.)\n",
       "955    $61K-$126K (Glassdoor est.)\n",
       "Name: Salary Estimate, Length: 742, dtype: object"
      ]
     },
     "execution_count": 9,
     "metadata": {},
     "output_type": "execute_result"
    }
   ],
   "source": [
    "#Salary Parsing\n",
    "df['Salary Estimate']"
   ]
  },
  {
   "cell_type": "code",
   "execution_count": null,
   "metadata": {},
   "outputs": [],
   "source": [
    "#Company Name, Text Only\n",
    "#State feilds\n",
    "#Age of company\n",
    "#Parsing of job description"
   ]
  }
 ],
 "metadata": {
  "kernelspec": {
   "display_name": "Python 3",
   "language": "python",
   "name": "python3"
  },
  "language_info": {
   "codemirror_mode": {
    "name": "ipython",
    "version": 3
   },
   "file_extension": ".py",
   "mimetype": "text/x-python",
   "name": "python",
   "nbconvert_exporter": "python",
   "pygments_lexer": "ipython3",
   "version": "3.7.4"
  }
 },
 "nbformat": 4,
 "nbformat_minor": 2
}
