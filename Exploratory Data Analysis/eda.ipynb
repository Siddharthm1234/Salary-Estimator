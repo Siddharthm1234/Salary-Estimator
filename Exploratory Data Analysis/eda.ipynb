{
 "cells": [
  {
   "cell_type": "markdown",
   "metadata": {},
   "source": [
    "## Exploratory Data Analysis"
   ]
  },
  {
   "cell_type": "code",
   "execution_count": 5,
   "metadata": {},
   "outputs": [],
   "source": [
    "import numpy as np\n",
    "import pandas as pd\n",
    "import matplotlib.pyplot as plt\n",
    "import seaborn as sns\n",
    "pd.set_option(\"display.max_rows\",None)"
   ]
  },
  {
   "cell_type": "code",
   "execution_count": 6,
   "metadata": {},
   "outputs": [
    {
     "data": {
      "text/html": [
       "<div>\n",
       "<style scoped>\n",
       "    .dataframe tbody tr th:only-of-type {\n",
       "        vertical-align: middle;\n",
       "    }\n",
       "\n",
       "    .dataframe tbody tr th {\n",
       "        vertical-align: top;\n",
       "    }\n",
       "\n",
       "    .dataframe thead th {\n",
       "        text-align: right;\n",
       "    }\n",
       "</style>\n",
       "<table border=\"1\" class=\"dataframe\">\n",
       "  <thead>\n",
       "    <tr style=\"text-align: right;\">\n",
       "      <th></th>\n",
       "      <th>Job Title</th>\n",
       "      <th>Salary Estimate</th>\n",
       "      <th>Job Description</th>\n",
       "      <th>Rating</th>\n",
       "      <th>Company Name</th>\n",
       "      <th>Location</th>\n",
       "      <th>Headquarters</th>\n",
       "      <th>Size</th>\n",
       "      <th>Founded</th>\n",
       "      <th>Type of ownership</th>\n",
       "      <th>...</th>\n",
       "      <th>age</th>\n",
       "      <th>python_reqd</th>\n",
       "      <th>spark_reqd</th>\n",
       "      <th>aws_reqd</th>\n",
       "      <th>excel_reqd</th>\n",
       "      <th>job_simp</th>\n",
       "      <th>seniority</th>\n",
       "      <th>desc_len</th>\n",
       "      <th>num_comp</th>\n",
       "      <th>Comapy Name</th>\n",
       "    </tr>\n",
       "  </thead>\n",
       "  <tbody>\n",
       "    <tr>\n",
       "      <td>0</td>\n",
       "      <td>Data Scientist</td>\n",
       "      <td>$53K-$91K (Glassdoor est.)</td>\n",
       "      <td>Data Scientist\\r\\nLocation: Albuquerque, NM\\r\\...</td>\n",
       "      <td>3.8</td>\n",
       "      <td>Tecolote Research\\r</td>\n",
       "      <td>Albuquerque, NM</td>\n",
       "      <td>Goleta, CA</td>\n",
       "      <td>501 to 1000 employees</td>\n",
       "      <td>1973</td>\n",
       "      <td>Company - Private</td>\n",
       "      <td>...</td>\n",
       "      <td>47</td>\n",
       "      <td>1</td>\n",
       "      <td>0</td>\n",
       "      <td>0</td>\n",
       "      <td>1</td>\n",
       "      <td>data scientist</td>\n",
       "      <td>na</td>\n",
       "      <td>2555</td>\n",
       "      <td>0</td>\n",
       "      <td>Tecolote Research</td>\n",
       "    </tr>\n",
       "    <tr>\n",
       "      <td>1</td>\n",
       "      <td>Healthcare Data Scientist</td>\n",
       "      <td>$63K-$112K (Glassdoor est.)</td>\n",
       "      <td>What You Will Do:\\r\\n\\r\\nI. General Summary\\r\\...</td>\n",
       "      <td>3.4</td>\n",
       "      <td>University of Maryland Medical System\\r</td>\n",
       "      <td>Linthicum, MD</td>\n",
       "      <td>Baltimore, MD</td>\n",
       "      <td>10000+ employees</td>\n",
       "      <td>1984</td>\n",
       "      <td>Other Organization</td>\n",
       "      <td>...</td>\n",
       "      <td>36</td>\n",
       "      <td>1</td>\n",
       "      <td>0</td>\n",
       "      <td>0</td>\n",
       "      <td>0</td>\n",
       "      <td>data scientist</td>\n",
       "      <td>na</td>\n",
       "      <td>4828</td>\n",
       "      <td>0</td>\n",
       "      <td>University of Maryland Medical System</td>\n",
       "    </tr>\n",
       "    <tr>\n",
       "      <td>2</td>\n",
       "      <td>Data Scientist</td>\n",
       "      <td>$80K-$90K (Glassdoor est.)</td>\n",
       "      <td>KnowBe4, Inc. is a high growth information sec...</td>\n",
       "      <td>4.8</td>\n",
       "      <td>KnowBe4\\r</td>\n",
       "      <td>Clearwater, FL</td>\n",
       "      <td>Clearwater, FL</td>\n",
       "      <td>501 to 1000 employees</td>\n",
       "      <td>2010</td>\n",
       "      <td>Company - Private</td>\n",
       "      <td>...</td>\n",
       "      <td>10</td>\n",
       "      <td>1</td>\n",
       "      <td>1</td>\n",
       "      <td>0</td>\n",
       "      <td>1</td>\n",
       "      <td>data scientist</td>\n",
       "      <td>na</td>\n",
       "      <td>3495</td>\n",
       "      <td>0</td>\n",
       "      <td>KnowBe4</td>\n",
       "    </tr>\n",
       "    <tr>\n",
       "      <td>3</td>\n",
       "      <td>Data Scientist</td>\n",
       "      <td>$56K-$97K (Glassdoor est.)</td>\n",
       "      <td>*Organization and Job ID**\\r\\nJob ID: 310709\\r...</td>\n",
       "      <td>3.8</td>\n",
       "      <td>PNNL\\r</td>\n",
       "      <td>Richland, WA</td>\n",
       "      <td>Richland, WA</td>\n",
       "      <td>1001 to 5000 employees</td>\n",
       "      <td>1965</td>\n",
       "      <td>Government</td>\n",
       "      <td>...</td>\n",
       "      <td>55</td>\n",
       "      <td>1</td>\n",
       "      <td>0</td>\n",
       "      <td>0</td>\n",
       "      <td>0</td>\n",
       "      <td>data scientist</td>\n",
       "      <td>na</td>\n",
       "      <td>3926</td>\n",
       "      <td>3</td>\n",
       "      <td>PNNL</td>\n",
       "    </tr>\n",
       "    <tr>\n",
       "      <td>4</td>\n",
       "      <td>Data Scientist</td>\n",
       "      <td>$86K-$143K (Glassdoor est.)</td>\n",
       "      <td>Data Scientist\\r\\nAffinity Solutions / Marketi...</td>\n",
       "      <td>2.9</td>\n",
       "      <td>Affinity Solutions\\r</td>\n",
       "      <td>New York, NY</td>\n",
       "      <td>New York, NY</td>\n",
       "      <td>51 to 200 employees</td>\n",
       "      <td>1998</td>\n",
       "      <td>Company - Private</td>\n",
       "      <td>...</td>\n",
       "      <td>22</td>\n",
       "      <td>1</td>\n",
       "      <td>0</td>\n",
       "      <td>0</td>\n",
       "      <td>1</td>\n",
       "      <td>data scientist</td>\n",
       "      <td>na</td>\n",
       "      <td>2748</td>\n",
       "      <td>3</td>\n",
       "      <td>Affinity Solutions</td>\n",
       "    </tr>\n",
       "  </tbody>\n",
       "</table>\n",
       "<p>5 rows × 29 columns</p>\n",
       "</div>"
      ],
      "text/plain": [
       "                   Job Title              Salary Estimate  \\\n",
       "0             Data Scientist   $53K-$91K (Glassdoor est.)   \n",
       "1  Healthcare Data Scientist  $63K-$112K (Glassdoor est.)   \n",
       "2             Data Scientist   $80K-$90K (Glassdoor est.)   \n",
       "3             Data Scientist   $56K-$97K (Glassdoor est.)   \n",
       "4             Data Scientist  $86K-$143K (Glassdoor est.)   \n",
       "\n",
       "                                     Job Description  Rating  \\\n",
       "0  Data Scientist\\r\\nLocation: Albuquerque, NM\\r\\...     3.8   \n",
       "1  What You Will Do:\\r\\n\\r\\nI. General Summary\\r\\...     3.4   \n",
       "2  KnowBe4, Inc. is a high growth information sec...     4.8   \n",
       "3  *Organization and Job ID**\\r\\nJob ID: 310709\\r...     3.8   \n",
       "4  Data Scientist\\r\\nAffinity Solutions / Marketi...     2.9   \n",
       "\n",
       "                              Company Name         Location    Headquarters  \\\n",
       "0                      Tecolote Research\\r  Albuquerque, NM      Goleta, CA   \n",
       "1  University of Maryland Medical System\\r    Linthicum, MD   Baltimore, MD   \n",
       "2                                KnowBe4\\r   Clearwater, FL  Clearwater, FL   \n",
       "3                                   PNNL\\r     Richland, WA    Richland, WA   \n",
       "4                     Affinity Solutions\\r     New York, NY    New York, NY   \n",
       "\n",
       "                     Size  Founded   Type of ownership  ... age python_reqd  \\\n",
       "0   501 to 1000 employees     1973   Company - Private  ...  47           1   \n",
       "1        10000+ employees     1984  Other Organization  ...  36           1   \n",
       "2   501 to 1000 employees     2010   Company - Private  ...  10           1   \n",
       "3  1001 to 5000 employees     1965          Government  ...  55           1   \n",
       "4     51 to 200 employees     1998   Company - Private  ...  22           1   \n",
       "\n",
       "  spark_reqd aws_reqd  excel_reqd        job_simp  seniority desc_len  \\\n",
       "0          0        0           1  data scientist         na     2555   \n",
       "1          0        0           0  data scientist         na     4828   \n",
       "2          1        0           1  data scientist         na     3495   \n",
       "3          0        0           0  data scientist         na     3926   \n",
       "4          0        0           1  data scientist         na     2748   \n",
       "\n",
       "   num_comp                            Comapy Name  \n",
       "0         0                      Tecolote Research  \n",
       "1         0  University of Maryland Medical System  \n",
       "2         0                                KnowBe4  \n",
       "3         3                                   PNNL  \n",
       "4         3                     Affinity Solutions  \n",
       "\n",
       "[5 rows x 29 columns]"
      ]
     },
     "execution_count": 6,
     "metadata": {},
     "output_type": "execute_result"
    }
   ],
   "source": [
    "df= pd.read_csv('salary_data_cleaned.csv')\n",
    "df.head(5)"
   ]
  },
  {
   "cell_type": "code",
   "execution_count": 21,
   "metadata": {},
   "outputs": [
    {
     "name": "stdout",
     "output_type": "stream",
     "text": [
      "<class 'pandas.core.frame.DataFrame'>\n",
      "RangeIndex: 718 entries, 0 to 717\n",
      "Data columns (total 29 columns):\n",
      "Job Title            718 non-null object\n",
      "Salary Estimate      718 non-null object\n",
      "Job Description      718 non-null object\n",
      "Rating               718 non-null float64\n",
      "Company Name         718 non-null object\n",
      "Location             718 non-null object\n",
      "Headquarters         718 non-null object\n",
      "Size                 718 non-null object\n",
      "Founded              718 non-null int64\n",
      "Type of ownership    718 non-null object\n",
      "Industry             718 non-null object\n",
      "Sector               718 non-null object\n",
      "Revenue              718 non-null object\n",
      "Competitors          718 non-null object\n",
      "min sal              718 non-null int64\n",
      "max sal              718 non-null int64\n",
      "avg                  718 non-null float64\n",
      "State                718 non-null object\n",
      "same state           718 non-null int64\n",
      "age                  718 non-null int64\n",
      "python_reqd          718 non-null int64\n",
      "spark_reqd           718 non-null int64\n",
      "aws_reqd             718 non-null int64\n",
      "excel_reqd           718 non-null int64\n",
      "job_simp             718 non-null object\n",
      "seniority            718 non-null object\n",
      "desc_len             718 non-null int64\n",
      "num_comp             718 non-null int64\n",
      "Comapy Name          718 non-null object\n",
      "dtypes: float64(2), int64(11), object(16)\n",
      "memory usage: 162.8+ KB\n"
     ]
    }
   ],
   "source": [
    "df.info()"
   ]
  },
  {
   "cell_type": "code",
   "execution_count": 3,
   "metadata": {},
   "outputs": [
    {
     "data": {
      "text/plain": [
       "Index(['Job Title', 'Salary Estimate', 'Job Description', 'Rating',\n",
       "       'Company Name', 'Location', 'Headquarters', 'Size', 'Founded',\n",
       "       'Type of ownership', 'Industry', 'Sector', 'Revenue', 'Competitors',\n",
       "       'min sal', 'max sal', 'avg', 'State', 'same state', 'age',\n",
       "       'python_reqd', 'spark_reqd', 'aws_reqd', 'excel_reqd', 'job_simp',\n",
       "       'seniority', 'desc_len', 'num_comp', 'Comapy Name'],\n",
       "      dtype='object')"
      ]
     },
     "execution_count": 3,
     "metadata": {},
     "output_type": "execute_result"
    }
   ],
   "source": [
    "df.columns"
   ]
  },
  {
   "cell_type": "code",
   "execution_count": 9,
   "metadata": {},
   "outputs": [
    {
     "data": {
      "text/html": [
       "<div>\n",
       "<style scoped>\n",
       "    .dataframe tbody tr th:only-of-type {\n",
       "        vertical-align: middle;\n",
       "    }\n",
       "\n",
       "    .dataframe tbody tr th {\n",
       "        vertical-align: top;\n",
       "    }\n",
       "\n",
       "    .dataframe thead th {\n",
       "        text-align: right;\n",
       "    }\n",
       "</style>\n",
       "<table border=\"1\" class=\"dataframe\">\n",
       "  <thead>\n",
       "    <tr style=\"text-align: right;\">\n",
       "      <th></th>\n",
       "      <th>Rating</th>\n",
       "      <th>Founded</th>\n",
       "      <th>min sal</th>\n",
       "      <th>max sal</th>\n",
       "      <th>avg</th>\n",
       "      <th>same state</th>\n",
       "      <th>age</th>\n",
       "      <th>python_reqd</th>\n",
       "      <th>spark_reqd</th>\n",
       "      <th>aws_reqd</th>\n",
       "      <th>excel_reqd</th>\n",
       "      <th>desc_len</th>\n",
       "      <th>num_comp</th>\n",
       "    </tr>\n",
       "  </thead>\n",
       "  <tbody>\n",
       "    <tr>\n",
       "      <td>count</td>\n",
       "      <td>718.000000</td>\n",
       "      <td>718.000000</td>\n",
       "      <td>718.000000</td>\n",
       "      <td>718.000000</td>\n",
       "      <td>718.000000</td>\n",
       "      <td>718.000000</td>\n",
       "      <td>718.000000</td>\n",
       "      <td>718.000000</td>\n",
       "      <td>718.000000</td>\n",
       "      <td>718.000000</td>\n",
       "      <td>718.000000</td>\n",
       "      <td>718.000000</td>\n",
       "      <td>718.000000</td>\n",
       "    </tr>\n",
       "    <tr>\n",
       "      <td>mean</td>\n",
       "      <td>3.621727</td>\n",
       "      <td>1832.675487</td>\n",
       "      <td>75.871866</td>\n",
       "      <td>130.435933</td>\n",
       "      <td>103.153900</td>\n",
       "      <td>0.564067</td>\n",
       "      <td>46.516713</td>\n",
       "      <td>0.545961</td>\n",
       "      <td>0.232591</td>\n",
       "      <td>0.243733</td>\n",
       "      <td>0.532033</td>\n",
       "      <td>3930.667131</td>\n",
       "      <td>1.083565</td>\n",
       "    </tr>\n",
       "    <tr>\n",
       "      <td>std</td>\n",
       "      <td>0.811907</td>\n",
       "      <td>504.796154</td>\n",
       "      <td>30.795728</td>\n",
       "      <td>44.101293</td>\n",
       "      <td>36.898694</td>\n",
       "      <td>0.496224</td>\n",
       "      <td>54.436165</td>\n",
       "      <td>0.498230</td>\n",
       "      <td>0.422778</td>\n",
       "      <td>0.429633</td>\n",
       "      <td>0.499321</td>\n",
       "      <td>1521.903590</td>\n",
       "      <td>1.393843</td>\n",
       "    </tr>\n",
       "    <tr>\n",
       "      <td>min</td>\n",
       "      <td>-1.000000</td>\n",
       "      <td>-1.000000</td>\n",
       "      <td>15.000000</td>\n",
       "      <td>16.000000</td>\n",
       "      <td>15.500000</td>\n",
       "      <td>0.000000</td>\n",
       "      <td>-1.000000</td>\n",
       "      <td>0.000000</td>\n",
       "      <td>0.000000</td>\n",
       "      <td>0.000000</td>\n",
       "      <td>0.000000</td>\n",
       "      <td>407.000000</td>\n",
       "      <td>0.000000</td>\n",
       "    </tr>\n",
       "    <tr>\n",
       "      <td>25%</td>\n",
       "      <td>3.300000</td>\n",
       "      <td>1939.000000</td>\n",
       "      <td>54.000000</td>\n",
       "      <td>98.250000</td>\n",
       "      <td>76.500000</td>\n",
       "      <td>0.000000</td>\n",
       "      <td>10.000000</td>\n",
       "      <td>0.000000</td>\n",
       "      <td>0.000000</td>\n",
       "      <td>0.000000</td>\n",
       "      <td>0.000000</td>\n",
       "      <td>2869.000000</td>\n",
       "      <td>0.000000</td>\n",
       "    </tr>\n",
       "    <tr>\n",
       "      <td>50%</td>\n",
       "      <td>3.700000</td>\n",
       "      <td>1989.000000</td>\n",
       "      <td>71.000000</td>\n",
       "      <td>126.000000</td>\n",
       "      <td>98.500000</td>\n",
       "      <td>1.000000</td>\n",
       "      <td>24.000000</td>\n",
       "      <td>1.000000</td>\n",
       "      <td>0.000000</td>\n",
       "      <td>0.000000</td>\n",
       "      <td>1.000000</td>\n",
       "      <td>3793.000000</td>\n",
       "      <td>0.000000</td>\n",
       "    </tr>\n",
       "    <tr>\n",
       "      <td>75%</td>\n",
       "      <td>4.000000</td>\n",
       "      <td>2007.000000</td>\n",
       "      <td>92.750000</td>\n",
       "      <td>157.000000</td>\n",
       "      <td>124.000000</td>\n",
       "      <td>1.000000</td>\n",
       "      <td>59.000000</td>\n",
       "      <td>1.000000</td>\n",
       "      <td>0.000000</td>\n",
       "      <td>0.000000</td>\n",
       "      <td>1.000000</td>\n",
       "      <td>4784.750000</td>\n",
       "      <td>3.000000</td>\n",
       "    </tr>\n",
       "    <tr>\n",
       "      <td>max</td>\n",
       "      <td>5.000000</td>\n",
       "      <td>2019.000000</td>\n",
       "      <td>202.000000</td>\n",
       "      <td>306.000000</td>\n",
       "      <td>254.000000</td>\n",
       "      <td>1.000000</td>\n",
       "      <td>276.000000</td>\n",
       "      <td>1.000000</td>\n",
       "      <td>1.000000</td>\n",
       "      <td>1.000000</td>\n",
       "      <td>1.000000</td>\n",
       "      <td>10146.000000</td>\n",
       "      <td>4.000000</td>\n",
       "    </tr>\n",
       "  </tbody>\n",
       "</table>\n",
       "</div>"
      ],
      "text/plain": [
       "           Rating      Founded     min sal     max sal         avg  \\\n",
       "count  718.000000   718.000000  718.000000  718.000000  718.000000   \n",
       "mean     3.621727  1832.675487   75.871866  130.435933  103.153900   \n",
       "std      0.811907   504.796154   30.795728   44.101293   36.898694   \n",
       "min     -1.000000    -1.000000   15.000000   16.000000   15.500000   \n",
       "25%      3.300000  1939.000000   54.000000   98.250000   76.500000   \n",
       "50%      3.700000  1989.000000   71.000000  126.000000   98.500000   \n",
       "75%      4.000000  2007.000000   92.750000  157.000000  124.000000   \n",
       "max      5.000000  2019.000000  202.000000  306.000000  254.000000   \n",
       "\n",
       "       same state         age  python_reqd  spark_reqd    aws_reqd  \\\n",
       "count  718.000000  718.000000   718.000000  718.000000  718.000000   \n",
       "mean     0.564067   46.516713     0.545961    0.232591    0.243733   \n",
       "std      0.496224   54.436165     0.498230    0.422778    0.429633   \n",
       "min      0.000000   -1.000000     0.000000    0.000000    0.000000   \n",
       "25%      0.000000   10.000000     0.000000    0.000000    0.000000   \n",
       "50%      1.000000   24.000000     1.000000    0.000000    0.000000   \n",
       "75%      1.000000   59.000000     1.000000    0.000000    0.000000   \n",
       "max      1.000000  276.000000     1.000000    1.000000    1.000000   \n",
       "\n",
       "       excel_reqd      desc_len    num_comp  \n",
       "count  718.000000    718.000000  718.000000  \n",
       "mean     0.532033   3930.667131    1.083565  \n",
       "std      0.499321   1521.903590    1.393843  \n",
       "min      0.000000    407.000000    0.000000  \n",
       "25%      0.000000   2869.000000    0.000000  \n",
       "50%      1.000000   3793.000000    0.000000  \n",
       "75%      1.000000   4784.750000    3.000000  \n",
       "max      1.000000  10146.000000    4.000000  "
      ]
     },
     "execution_count": 9,
     "metadata": {},
     "output_type": "execute_result"
    }
   ],
   "source": [
    "df.describe()"
   ]
  },
  {
   "cell_type": "markdown",
   "metadata": {},
   "source": [
    "### Some Histograms:"
   ]
  },
  {
   "cell_type": "code",
   "execution_count": 22,
   "metadata": {},
   "outputs": [
    {
     "name": "stdout",
     "output_type": "stream",
     "text": [
      "Mean is: 3.6217270194986106\n"
     ]
    },
    {
     "data": {
      "text/plain": [
       "<matplotlib.axes._subplots.AxesSubplot at 0x1be21001b08>"
      ]
     },
     "execution_count": 22,
     "metadata": {},
     "output_type": "execute_result"
    },
    {
     "data": {
      "image/png": "[encoded data removed]",
      "text/plain": [
       "<Figure size 432x288 with 1 Axes>"
      ]
     },
     "metadata": {
      "needs_background": "light"
     },
     "output_type": "display_data"
    }
   ],
   "source": [
    "#Pandas support many inbuilt graphs\n",
    "print(f'Mean is: {df[\"Rating\"].mean()}')\n",
    "df.Rating.hist()"
   ]
  },
  {
   "cell_type": "code",
   "execution_count": 23,
   "metadata": {},
   "outputs": [
    {
     "data": {
      "text/plain": [
       "<matplotlib.axes._subplots.AxesSubplot at 0x1be20fb7ec8>"
      ]
     },
     "execution_count": 23,
     "metadata": {},
     "output_type": "execute_result"
    },
    {
     "data": {
      "image/png": "[encoded data removed]",
      "text/plain": [
       "<Figure size 432x288 with 1 Axes>"
      ]
     },
     "metadata": {
      "needs_background": "light"
     },
     "output_type": "display_data"
    }
   ],
   "source": [
    "df['avg'].hist()"
   ]
  },
  {
   "cell_type": "code",
   "execution_count": 25,
   "metadata": {},
   "outputs": [
    {
     "data": {
      "text/plain": [
       "<matplotlib.axes._subplots.AxesSubplot at 0x1be1fc46688>"
      ]
     },
     "execution_count": 25,
     "metadata": {},
     "output_type": "execute_result"
    },
    {
     "data": {
      "image/png": "[encoded data removed]",
      "text/plain": [
       "<Figure size 432x288 with 1 Axes>"
      ]
     },
     "metadata": {
      "needs_background": "light"
     },
     "output_type": "display_data"
    }
   ],
   "source": [
    "#Age of company is not normally distributed and we will have to NORMALIZE it if we want to use it in our data\n",
    "df['age'].hist()"
   ]
  },
  {
   "cell_type": "code",
   "execution_count": null,
   "metadata": {},
   "outputs": [],
   "source": []
  }
 ],
 "metadata": {
  "kernelspec": {
   "display_name": "Python 3",
   "language": "python",
   "name": "python3"
  },
  "language_info": {
   "codemirror_mode": {
    "name": "ipython",
    "version": 3
   },
   "file_extension": ".py",
   "mimetype": "text/x-python",
   "name": "python",
   "nbconvert_exporter": "python",
   "pygments_lexer": "ipython3",
   "version": "3.7.4"
  }
 },
 "nbformat": 4,
 "nbformat_minor": 2
}
